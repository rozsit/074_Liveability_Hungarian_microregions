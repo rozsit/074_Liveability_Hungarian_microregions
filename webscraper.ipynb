{
 "cells": [
  {
   "cell_type": "code",
   "execution_count": null,
   "id": "d1cbb934-bbe5-430b-84e0-d71775faa696",
   "metadata": {},
   "outputs": [],
   "source": [
    "import pandas as pd\n",
    "\n",
    "# URL of the Wikipedia page containing the table\n",
    "url = 'https://hu.wikipedia.org/wiki/Magyarorsz%C3%A1g_kist%C3%A9rs%C3%A9geinek_list%C3%A1ja'\n",
    "\n",
    "# Read all tables from the Wikipedia page\n",
    "tables = pd.read_html(url)\n",
    "\n",
    "# Select the first table\n",
    "table = tables[1]\n",
    "\n",
    "# Write the table to an Excel file\n",
    "table.to_excel('hungarian_microregions.xlsx', index=False, engine='openpyxl')"
   ]
  }
 ],
 "metadata": {
  "kernelspec": {
   "display_name": "Python 3 (ipykernel)",
   "language": "python",
   "name": "python3"
  },
  "language_info": {
   "codemirror_mode": {
    "name": "ipython",
    "version": 3
   },
   "file_extension": ".py",
   "mimetype": "text/x-python",
   "name": "python",
   "nbconvert_exporter": "python",
   "pygments_lexer": "ipython3",
   "version": "3.12.1"
  }
 },
 "nbformat": 4,
 "nbformat_minor": 5
}
