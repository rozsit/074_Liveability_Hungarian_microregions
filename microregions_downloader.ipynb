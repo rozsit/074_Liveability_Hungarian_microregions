{
 "cells": [
  {
   "cell_type": "code",
   "execution_count": null,
   "id": "30910e87-00ee-4e89-8924-5615c8ec2cf5",
   "metadata": {},
   "outputs": [],
   "source": [
    "import osmnx as ox\n",
    "import geopandas as gpd\n",
    "import pandas as pd\n",
    "import pickle\n",
    "import json\n",
    "import os\n",
    "\n",
    "# Data file\n",
    "file_path = \"hungarian_microregions.xlsx\"\n",
    "regions = pd.read_excel(file_path)\n",
    "\n",
    "# Saving folder\n",
    "save_dir = \"microregions_data\"\n",
    "os.makedirs(save_dir, exist_ok=True)\n",
    "\n",
    "def download_and_save_osm_data(regions_name):\n",
    "    try:\n",
    "        # Boundary geometry\n",
    "        regions = ox.geocode_to_gdf(regions_name)\n",
    "        regions.to_file(f\"{save_dir}/{regions_name}_boundary.geojson\", driver=\"GeoJSON\")\n",
    "        \n",
    "        # Roads\n",
    "        roads = ox.graph_from_place(regions_name, network_type=\"drive\")\n",
    "        with open(f\"{save_dir}/{regions_name}_roads.pkl\", \"wb\") as f:\n",
    "            pickle.dump(roads, f)\n",
    "\n",
    "        # Parks\n",
    "        parks = ox.features_from_place(regions_name, tags={\"leisure\": \"park\"})\n",
    "        parks.to_file(f\"{save_dir}/{regions_name}_parks.geojson\", driver=\"GeoJSON\")\n",
    "\n",
    "        # Schools\n",
    "        schools = ox.features_from_place(regions_name, tags={\"amenity\": \"school\"})\n",
    "        schools.to_file(f\"{save_dir}/{regions_name}_schools.geojson\", driver=\"GeoJSON\")\n",
    "\n",
    "        # Museums\n",
    "        museums = ox.features_from_place(regions_name, tags={\"tourism\": \"museum\"})\n",
    "        museums.to_file(f\"{save_dir}/{regions_name}_museums.geojson\", driver=\"GeoJSON\")\n",
    "\n",
    "        print(f\"Data downloaded and saved: {regions_name}\")\n",
    "    except Exception as e:\n",
    "        print(f\"Error in {regions_name} process: {e}\")\n",
    "\n",
    "# Loop for all download\n",
    "for regions_name in regions['Name']:\n",
    "    download_and_save_osm_data(regions_name)\n",
    "\n",
    "print(\"All microregions OSM data downloaded and saved!\")"
   ]
  }
 ],
 "metadata": {
  "kernelspec": {
   "display_name": "GEOenv",
   "language": "python",
   "name": "env"
  },
  "language_info": {
   "codemirror_mode": {
    "name": "ipython",
    "version": 3
   },
   "file_extension": ".py",
   "mimetype": "text/x-python",
   "name": "python",
   "nbconvert_exporter": "python",
   "pygments_lexer": "ipython3",
   "version": "3.12.1"
  }
 },
 "nbformat": 4,
 "nbformat_minor": 5
}
